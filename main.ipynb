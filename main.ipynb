{
 "cells": [
  {
   "cell_type": "code",
   "execution_count": 2,
   "metadata": {},
   "outputs": [],
   "source": [
    "import pandas as pd\n",
    "from sklearn.metrics.pairwise import cosine_similarity\n",
    "from sklearn.preprocessing import MinMaxScaler\n",
    "import pickle"
   ]
  },
  {
   "cell_type": "code",
   "execution_count": 3,
   "metadata": {},
   "outputs": [],
   "source": [
    "# Load the dataset\n",
    "df = pd.read_csv('spotify_songs.csv')"
   ]
  },
  {
   "cell_type": "code",
   "execution_count": 4,
   "metadata": {},
   "outputs": [],
   "source": [
    "# Select features related to genre-based recommendation\n",
    "features = ['danceability', 'energy', 'acousticness', 'instrumentalness', 'valence', 'tempo']"
   ]
  },
  {
   "cell_type": "code",
   "execution_count": 5,
   "metadata": {},
   "outputs": [],
   "source": [
    "#normalize\n",
    "scaler = MinMaxScaler()\n",
    "df[features] = scaler.fit_transform(df[features])"
   ]
  },
  {
   "cell_type": "code",
   "execution_count": 6,
   "metadata": {},
   "outputs": [],
   "source": [
    "# Compute the cosine similarity matrix based on these features\n",
    "similarity_matrix = cosine_similarity(df[features])"
   ]
  },
  {
   "cell_type": "code",
   "execution_count": 7,
   "metadata": {},
   "outputs": [],
   "source": [
    "# Function to recommend songs based on genre similarity\n",
    "def recommend_songs(song_name, top_n=5):\n",
    "    # Check if the song exists in the dataset\n",
    "    if song_name not in df['track_name'].values:\n",
    "        return f\"Song '{song_name}' not found in the dataset.\"\n",
    "\n",
    "    # Find the index of the song in the dataset\n",
    "    song_index = df[df['track_name'] == song_name].index[0]\n",
    "    \n",
    "    # Get similarity scores for this song with all other songs\n",
    "    similarity_scores = list(enumerate(similarity_matrix[song_index]))\n",
    "    \n",
    "    # Sort the songs based on similarity scores\n",
    "    similarity_scores = sorted(similarity_scores, key=lambda x: x[1], reverse=True)\n",
    "    \n",
    "    # Get the indices of the top_n most similar songs\n",
    "    top_song_indices = [score[0] for score in similarity_scores[1:top_n+1]]\n",
    "    \n",
    "    # Return the most similar songs\n",
    "    return df[['track_name', 'track_artist', 'playlist_genre']].iloc[top_song_indices]"
   ]
  },
  {
   "cell_type": "code",
   "execution_count": 9,
   "metadata": {},
   "outputs": [
    {
     "name": "stdout",
     "output_type": "stream",
     "text": [
      "                                              track_name   track_artist  \\\n",
      "29684  I Don't Care (with Justin Bieber) - Loud Luxur...     Ed Sheeran   \n",
      "29734   I Miss You (feat. Julia Michaels) - Cahill Remix   Clean Bandit   \n",
      "29730                       Strangers - Jonas Blue Remix         Sigrid   \n",
      "9233                                          Die Echten    Capital Bra   \n",
      "154                                                Sorry  Justin Bieber   \n",
      "\n",
      "      playlist_genre  \n",
      "29684            edm  \n",
      "29734            edm  \n",
      "29730            edm  \n",
      "9233             rap  \n",
      "154              pop  \n"
     ]
    }
   ],
   "source": [
    "# Save the DataFrame and similarity matrix as pickle files\n",
    "pickle.dump(df, open('df_genre.pkl', 'wb'))\n",
    "pickle.dump(similarity_matrix, open('similarity_genre.pkl', 'wb'))\n",
    "\n",
    "# Example usage:\n",
    "recommended_songs = recommend_songs('I Don\\'t Care (with Justin Bieber) - Loud Luxury Remix', top_n=5)\n",
    "print(recommended_songs)\n"
   ]
  }
 ],
 "metadata": {
  "kernelspec": {
   "display_name": "base",
   "language": "python",
   "name": "python3"
  },
  "language_info": {
   "codemirror_mode": {
    "name": "ipython",
    "version": 3
   },
   "file_extension": ".py",
   "mimetype": "text/x-python",
   "name": "python",
   "nbconvert_exporter": "python",
   "pygments_lexer": "ipython3",
   "version": "3.12.4"
  }
 },
 "nbformat": 4,
 "nbformat_minor": 2
}
